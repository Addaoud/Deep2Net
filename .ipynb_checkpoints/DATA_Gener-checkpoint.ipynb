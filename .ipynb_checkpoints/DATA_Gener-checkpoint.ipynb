{
 "cells": [
  {
   "cell_type": "code",
   "execution_count": 1,
   "metadata": {},
   "outputs": [],
   "source": [
    "import pandas as pd # pandas\n",
    "import numpy as np # numpy\n",
    "from datetime import datetime,timedelta\n",
    "import math"
   ]
  },
  {
   "cell_type": "code",
   "execution_count": 15,
   "metadata": {},
   "outputs": [],
   "source": [
    "lab_data = 'Lab data/'\n",
    "data_folder = 'DATA/'\n",
    "DATA_1=pd.read_csv(lab_data+\"Labo1.csv\", sep=';',encoding = \"ISO-8859-1\")\n",
    "DATA_2=pd.read_csv(lab_data+\"Labo2.csv\", sep=';',encoding = \"ISO-8859-1\")\n",
    "DATA_3=pd.read_csv(lab_data+\"Labo3.csv\", sep=';',encoding = \"ISO-8859-1\")\n",
    "DATA_4=pd.read_csv(lab_data+\"Labo4.csv\", sep=';',encoding = \"ISO-8859-1\")\n",
    "DATA_5=pd.read_csv(lab_data+\"Labo5.csv\", sep=';',encoding = \"ISO-8859-1\")\n",
    "DATA_6=pd.read_csv(lab_data+\"Labo6.csv\", sep=';',encoding = \"ISO-8859-1\")"
   ]
  },
  {
   "cell_type": "code",
   "execution_count": 3,
   "metadata": {},
   "outputs": [
    {
     "data": {
      "text/plain": [
       "PPP1 PIPETTE SERUM NON STERILE 1ML    495\n",
       "ALCOOL ETHYLIQUE ABSOLU RECTAPUR      300\n",
       "FT5000 CONE PROLINE TIP BIOHIT        170\n",
       "BOUCHON COIFFANT VACUCAP 13MM         153\n",
       "OPTIFIT TIP 5000 BULKBOX              118\n",
       "                                     ... \n",
       "LATAMOXEF/ MOXALACTAM                   1\n",
       "LINEZOLIDE 30                           1\n",
       "CEFOXITINE 30                           1\n",
       "NITROFURANTOINE 300                     1\n",
       "KC310 CAL ENZYMES 1 3X2 FLACONS         1\n",
       "Name: Produit, Length: 588, dtype: int64"
      ]
     },
     "execution_count": 3,
     "metadata": {},
     "output_type": "execute_result"
    }
   ],
   "source": [
    "DATA_1['Produit'].value_counts()"
   ]
  },
  {
   "cell_type": "code",
   "execution_count": 4,
   "metadata": {},
   "outputs": [
    {
     "data": {
      "text/plain": [
       "K7032 CRP 2X200 TESTS                       1767\n",
       "K6421 LOCI TROPONINE 2X60 TESTS             1226\n",
       "K7034 ALBUMINE 2 X 600 TESTS                1091\n",
       "K6423A LOCI NT PRO BNP 2X40 TESTS           1048\n",
       "KS807 SOLUTION NETTOYAGE ECHANTILLONS        947\n",
       "                                            ... \n",
       "R3:TAMPON PHOSPHATE M/15 REF 42103             1\n",
       "FLACONS ALIQUOTAGE CALSET (calset vials)       1\n",
       "Gripper Rubber Pad                             1\n",
       "1524693 ETALON AG ANTI HBS                     1\n",
       "B852-000FR LEGIONELLA  NOW  22 TESTS           1\n",
       "Name: Produit, Length: 602, dtype: int64"
      ]
     },
     "execution_count": 4,
     "metadata": {},
     "output_type": "execute_result"
    }
   ],
   "source": [
    "DATA_2['Produit'].value_counts()"
   ]
  },
  {
   "cell_type": "code",
   "execution_count": 5,
   "metadata": {},
   "outputs": [
    {
     "data": {
      "text/plain": [
       "XPERT SARS COV 2                          667\n",
       "MGI Nucleic Acid Extraction kit OP0232    476\n",
       "XPERT XPRESS FLU/RSV                      179\n",
       "XPERT CT / NG CE-10                       137\n",
       "XPERT CT / NG                             133\n",
       "GXCDIFFICILE-10 GX-C-DIFFICILE IVD         84\n",
       "XPERT FLU/RSV XC                           82\n",
       "SARS COV2 ELITE MGB KIT                    79\n",
       "GXMRSA/SA-BC-CE-10 XPERT MRSA/SA BC        58\n",
       "Xpert carba                                55\n",
       "GXVANA/B-CE-10  XPERT VAN A IVD            43\n",
       "XPERT XPRESS SARS-COV2/FLU/RSV             42\n",
       "XPERT C DIFFICILE BT                       30\n",
       "CAP SONICATION TUBE INGENIUS               18\n",
       "FILTER TIPS 1000Âµl LONG sterile low       18\n",
       "EPPENDORF TUBE SAFE LOCK 1.5ML BIOPUR      15\n",
       "PLAQUE PCR 96X0.1ML                        14\n",
       "SARS COV2 ELITE POS CONTROL                12\n",
       "Xpert MTB/RIF                              12\n",
       "EXT TIP 1000Âµl TRAY 8*96                  11\n",
       "XPERT MTB/RIF ULTRA                        10\n",
       "XPERT MTB/RIF-ULTRA-10                      7\n",
       "EXPERT MRSA NXG                             5\n",
       "OPTICAL SEALING SHEET                       4\n",
       "POINTE A FILTRE 10ÂµL BIOCLEAN *960         2\n",
       "FILTER TIPS 20Âµl sterile                   2\n",
       "FILTER TIPS 200Âµl sterile                  2\n",
       "SARS COV2 VARIANTS ELITE RUO                1\n",
       "EXPERT GXMRSA-NXG-CE-10                     1\n",
       "Xpert carba GXCARBAR-CE-10                  1\n",
       "CONE A FILTRE FINNTIPS 1000ÂµL *960         1\n",
       "FILTER TIPS 1000Âµl  sterile low            1\n",
       "SARS COV2 VARIANT POS CONTROLE RUO          1\n",
       "GXMRSA-100N-10 XPERT MRSA IVD 10TESTS       1\n",
       "Name: Produit, dtype: int64"
      ]
     },
     "execution_count": 5,
     "metadata": {},
     "output_type": "execute_result"
    }
   ],
   "source": [
    "DATA_3['Produit'].value_counts()"
   ]
  },
  {
   "cell_type": "code",
   "execution_count": 6,
   "metadata": {},
   "outputs": [
    {
     "data": {
      "text/plain": [
       "CD 4000 DILUANT LEUC   1H7301             1805\n",
       "3624 ID DIACELL A1B     180 TESTS         1391\n",
       "STA DEFICIENT V   00744                   1288\n",
       "ID-DIACELL I II III   004310              1176\n",
       "STA DESORB U   00975                       970\n",
       "                                          ... \n",
       "924-816 INLET GASKET WITH HOLDER ABL90       1\n",
       "LAMES POUR CYTOCENTRI   5991059              1\n",
       "RHUMALATEX  (5560 )                          1\n",
       "TOXO ISAGA   75361                           1\n",
       "RIVASCOP                                     1\n",
       "Name: Produit, Length: 252, dtype: int64"
      ]
     },
     "execution_count": 6,
     "metadata": {},
     "output_type": "execute_result"
    }
   ],
   "source": [
    "DATA_4['Produit'].value_counts()"
   ]
  },
  {
   "cell_type": "code",
   "execution_count": 7,
   "metadata": {},
   "outputs": [
    {
     "data": {
      "text/plain": [
       "066508298 LAME ANCA ETHANOL 12 PUITS    1050\n",
       "066508295 ANCA FORMOL  LAME 6 PUITS      964\n",
       "TAMPON PBS   40X                         727\n",
       "TAMPON PBS 1 LITRE                       560\n",
       "TOXO IGG II  VIDAS   30210               343\n",
       "                                        ... \n",
       "IMMUNOTROL  APS IGM  2X500 µL              1\n",
       "IMMUNOTROL  RHEUMA 2X500 µL                1\n",
       "IMMUNOTROL  APS IGG 2X500 µL               1\n",
       "HIV COMBO CONTROLE                         1\n",
       "eponges vidas                              1\n",
       "Name: Produit, Length: 372, dtype: int64"
      ]
     },
     "execution_count": 7,
     "metadata": {},
     "output_type": "execute_result"
    }
   ],
   "source": [
    "DATA_5['Produit'].value_counts()"
   ]
  },
  {
   "cell_type": "code",
   "execution_count": 8,
   "metadata": {},
   "outputs": [
    {
     "data": {
      "text/plain": [
       "GELOSE COLOMBIA SG MOUTON PB5039A        20241\n",
       "GÃ©lose BCP 10 boites                    10963\n",
       "GELOSE BCP                                3822\n",
       "GELOSE COLUMBIA SG MOUTON+CAP             3333\n",
       "GELOSE M HINTON (BTE RONDE)               3308\n",
       "                                         ...  \n",
       "PLAQUES CMI IVD ANA                          1\n",
       "E TEST DORIPENEME DOR 32   30 BLISTER        1\n",
       "CITRATE DE SODIUM 25T  61 834                1\n",
       "E TEST CMI CEFTOBIPROLE 0.002ÂµG/mL          1\n",
       "E TEST CEFTAZIDIME   506800                  1\n",
       "Name: Produit, Length: 1032, dtype: int64"
      ]
     },
     "execution_count": 8,
     "metadata": {},
     "output_type": "execute_result"
    }
   ],
   "source": [
    "DATA_6['Produit'].value_counts()"
   ]
  },
  {
   "cell_type": "code",
   "execution_count": 10,
   "metadata": {},
   "outputs": [
    {
     "data": {
      "text/plain": [
       "Index(['Mise en service', 'Etiquette', 'Fournisseur', 'Réf. fournisseur',\n",
       "       'Ref. MAGH2', 'Produit', 'Quantite', 'Conditionnement', 'Lot',\n",
       "       'Date péremption', 'Dossier patient', 'Date réception', 'Cout net TTC',\n",
       "       'Lieu de stockage', 'Date de fin d'utilisation',\n",
       "       'Date limite d'utilisation', 'Mise en service.1', 'Commandé par',\n",
       "       'N° commande', 'Sous Qte Restante', 'Laboratoire', 'Bon de livraison',\n",
       "       'Tva', 'Type entree', 'Code Famille', 'Commentaire'],\n",
       "      dtype='object')"
      ]
     },
     "execution_count": 10,
     "metadata": {},
     "output_type": "execute_result"
    }
   ],
   "source": [
    "DATA_1.columns"
   ]
  },
  {
   "cell_type": "code",
   "execution_count": 18,
   "metadata": {},
   "outputs": [],
   "source": [
    "def dataframe(DATA,produit):\n",
    "    data1=DATA.loc[(DATA['Produit']==produit)].copy(deep=True)\n",
    "    data1.drop(['Tva','Lot',\"Date limite d'utilisation\",'Bon de livraison','N° commande','Etiquette','Fournisseur','Réf. fournisseur','Ref. MAGH2','Produit','Commandé par','Laboratoire','Type entree','Code Famille','Commentaire','Dossier patient','Lieu de stockage','Mise en service.1'],axis='columns',inplace=True)\n",
    "    data1['Quantite'] = np.where(data1['Quantite'] <0, -data1['Quantite'],data1['Quantite'])\n",
    "    data1['Cout net TTC']=data1['Cout net TTC'].astype(float)\n",
    "    data1['Cout net TTC'] = np.where(data1['Cout net TTC'] <0, -data1['Cout net TTC'],data1['Cout net TTC'])\n",
    "    data1['Mise en service']=pd.to_datetime(data1['Mise en service'],format='%d/%m/%Y %H:%M:%S')\n",
    "    data1['Date réception']=pd.to_datetime(data1['Date réception'],format='%d/%m/%Y %H:%M:%S')\n",
    "    data1['Date péremption']=pd.to_datetime(data1['Date péremption'],format='%d/%m/%Y %H:%M:%S',errors = 'coerce')\n",
    "    data1[\"Date de fin d'utilisation\"]=pd.to_datetime(data1[\"Date de fin d'utilisation\"],format='%d/%m/%Y %H:%M:%S')\n",
    "    #data1.drop((data1.loc[(data1['Quantite']!=0)&(data1['Cout net TTC']==0)]).index,inplace=True)\n",
    "    DATA_sales_days= data1.loc[:,('Date réception','Quantite','Cout net TTC','Sous Qte Restante','Date péremption')].groupby(pd.Grouper(key='Date réception', freq='1d',sort = False )).agg({'Quantite':'sum', 'Cout net TTC':'mean','Sous Qte Restante':'sum','Date péremption':'last'}).copy(deep=True)\n",
    "    DATA_sales_days['Quantite']= np.where(DATA_sales_days['Quantite'] >150, DATA_sales_days['Quantite']/20,DATA_sales_days['Quantite'])\n",
    "    DATA_sales_days['Quantite']= np.where(DATA_sales_days['Quantite'] >50, DATA_sales_days['Quantite']/5,DATA_sales_days['Quantite'])\n",
    "    DATA_sales_days['Quantite']=DATA_sales_days['Quantite'].astype(int)\n",
    "    return (DATA_sales_days)"
   ]
  },
  {
   "cell_type": "code",
   "execution_count": 12,
   "metadata": {},
   "outputs": [],
   "source": [
    "def product_fn(DATA,index):\n",
    "    product_list=Data['Produit'].value_counts().index\n",
    "    #product_list=Data['Produit'].value_counts()[Data['Produit'].value_counts()>100].index\n",
    "    product=product_list[min(index,len(product_list))]\n",
    "    return(product)"
   ]
  },
  {
   "cell_type": "code",
   "execution_count": 23,
   "metadata": {},
   "outputs": [
    {
     "name": "stderr",
     "output_type": "stream",
     "text": [
      "C:\\Users\\Lenovo\\AppData\\Local\\Temp/ipykernel_22456/1836213842.py:21: SettingWithCopyWarning: \n",
      "A value is trying to be set on a copy of a slice from a DataFrame\n",
      "\n",
      "See the caveats in the documentation: https://pandas.pydata.org/pandas-docs/stable/user_guide/indexing.html#returning-a-view-versus-a-copy\n",
      "  Produit1['Interval'][0]=Produit1['Date réception'][0]-Produit1['Date réception'][0]\n"
     ]
    },
    {
     "name": "stdout",
     "output_type": "stream",
     "text": [
      "100\n",
      "200\n",
      "300\n",
      "400\n",
      "500\n",
      "600\n",
      "700\n",
      "800\n",
      "900\n",
      "1000\n",
      "1100\n",
      "1200\n",
      "1300\n",
      "1400\n",
      "1500\n",
      "1600\n",
      "1700\n",
      "1800\n",
      "1900\n",
      "2000\n",
      "2100\n",
      "2200\n",
      "2300\n",
      "2400\n",
      "2500\n",
      "2600\n",
      "2700\n",
      "2800\n"
     ]
    }
   ],
   "source": [
    "Datas=[DATA_1,DATA_2,DATA_3,DATA_4,DATA_5,DATA_6]\n",
    "df_description=pd.DataFrame(columns=[\"product\",\"Samples\",\"ADI\",\"CV2\"])\n",
    "j=0\n",
    "for Data in Datas:\n",
    "    for i in range (len(Data['Produit'].value_counts().index)):\n",
    "        j+=1\n",
    "        product=product_fn(Data,i)\n",
    "        Produit1=dataframe(Data,product)\n",
    "        Produit1.reset_index(inplace=True)\n",
    "        Produit1[\"Month\"]=Produit1[\"Date réception\"].dt.month\n",
    "        Produit1[\"Year\"]=Produit1[\"Date réception\"].dt.year\n",
    "        Produit1[\"WeekDay\"]=Produit1[\"Date réception\"].dt.weekday\n",
    "        Produit1[\"MonthDay\"]=Produit1[\"Date réception\"].dt.day\n",
    "        Produit1['Périmé dans']=Produit1['Date péremption']-Produit1['Date réception']\n",
    "        Produit1['LastQty']=Produit1['Quantite'].replace(0,np.nan).fillna(method='ffill').shift(periods=1,axis=0)\n",
    "        Produit1['Quantite'].fillna(0,inplace=True)\n",
    "        Produit1['Quantite'].to_numpy().nonzero()\n",
    "        Test1=Produit1.iloc[Produit1['Quantite'].to_numpy().nonzero()].copy(deep=True)\n",
    "        Test1['Interval']=Test1['Date réception']-Test1['Date réception'].shift(periods=1, axis=0)\n",
    "        Produit1['Interval']=Test1['Interval'].copy(deep=True)\n",
    "        Produit1['Interval'][0]=Produit1['Date réception'][0]-Produit1['Date réception'][0]\n",
    "        Produit1['Interval']= np.where(Produit1['Interval'].notna(),Produit1['Date réception'][0]-Produit1['Date réception'][0],Produit1['Interval'])\n",
    "        Produit1['Interval']= np.where(Produit1['Interval'].isna(), Produit1['Interval'].shift(periods=1, axis=0)-Produit1['Interval'].shift(periods=1, axis=0)+timedelta(1),Produit1['Interval'])\n",
    "        while (Produit1['Interval'].isna().sum()>0):\n",
    "            Produit1['Interval']= np.where(Produit1['Interval'].isna(), Produit1['Interval'].shift(periods=1, axis=0)+timedelta(1),Produit1['Interval'])\n",
    "        Produit1['PeriodsSepLastTwoNnZeroDemands']=Test1['Interval'].copy(deep=True)\n",
    "        Produit1['PeriodsSepLastTwoNnZeroDemands'].fillna(method='ffill',inplace=True)\n",
    "        Produit1['PeriodsSepLastTwoNnZeroDemands']=Produit1['PeriodsSepLastTwoNnZeroDemands'].dt.days.shift(periods=1,axis=0)\n",
    "        Produit1['Interval']=Produit1['Interval'].dt.days\n",
    "        Produit1['Interval']= np.where(Produit1['Interval']==0, Produit1['Interval'].shift(periods=1, axis=0)+1,Produit1['Interval'])\n",
    "        Produit1.drop(['Cout net TTC','Sous Qte Restante','Périmé dans','MonthDay','Date péremption'],axis=1,inplace=True)\n",
    "        Produit1['ZNZDemand']=Produit1['Quantite']\n",
    "        Produit1['ZNZDemand']=np.where(Produit1['ZNZDemand']>0,1,Produit1['ZNZDemand'])\n",
    "        Produit1 = Produit1.rename(columns={\"Date réception\": \"ReceiptDate\", \"Quantite\": \"Qty\"})\n",
    "        if (j%100)==0:\n",
    "            print (j)\n",
    "        #outname = product.replace('/','')+'.csv'\n",
    "        outname = 'Prd%s.csv'%(str(j))\n",
    "        Produit1.to_csv(data_folder+outname,sep=\";\",index=False)\n",
    "        try :\n",
    "            ADI=(Produit1['ZNZDemand'].value_counts()[1]+Produit1['ZNZDemand'].value_counts()[0])/Produit1['ZNZDemand'].value_counts()[1]\n",
    "            Test_df=(Produit1[Produit1['ZNZDemand']==1][['Quantite','Interval']]).dropna(axis=0)\n",
    "            CV2=(Test_df['Quantite'].std()/Test_df['Quantite'].mean())**2\n",
    "            Samples=Produit1.shape[0]\n",
    "        except:\n",
    "            ADI=np.NaN\n",
    "            CV2=np.NaN\n",
    "            Samples=np.NaN\n",
    "        df_description.loc[len(df_description.index)] = [product,Samples,ADI,CV2]\n",
    "df_description.to_csv(data_folder+'all_data_description.csv',sep=\";\",index=False)"
   ]
  }
 ],
 "metadata": {
  "kernelspec": {
   "display_name": "Python 3 (ipykernel)",
   "language": "python",
   "name": "python3"
  },
  "language_info": {
   "codemirror_mode": {
    "name": "ipython",
    "version": 3
   },
   "file_extension": ".py",
   "mimetype": "text/x-python",
   "name": "python",
   "nbconvert_exporter": "python",
   "pygments_lexer": "ipython3",
   "version": "3.9.6"
  }
 },
 "nbformat": 4,
 "nbformat_minor": 4
}
